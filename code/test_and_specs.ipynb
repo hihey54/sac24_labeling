{
 "cells": [
  {
   "cell_type": "code",
   "execution_count": 1,
   "id": "ef8b9922-4658-46d0-b6fa-ef48f1baac32",
   "metadata": {},
   "outputs": [],
   "source": [
    "%matplotlib inline\n",
    "import pandas as pd\n",
    "import time\n",
    "import sys\n",
    "from pathlib import Path\n",
    "from pprint import pprint\n",
    "import numpy as np\n",
    "from operator import add\n",
    "from warnings import simplefilter\n",
    "from tqdm.notebook import tqdm\n",
    "from datetime import datetime\n",
    "import sklearn\n",
    "import seaborn as sns\n",
    "import scipy\n",
    "\n",
    "pd.options.mode.chained_assignment = None #comment if you want the warning message"
   ]
  },
  {
   "cell_type": "code",
   "execution_count": 2,
   "id": "d6f7272d-76e8-42ff-ac7e-a79104c7722d",
   "metadata": {},
   "outputs": [
    {
     "name": "stdout",
     "output_type": "stream",
     "text": [
      "1.23.5\n",
      "1.5.3\n",
      "1.2.1\n",
      "1.10.0\n"
     ]
    }
   ],
   "source": [
    "print(np.__version__)\n",
    "print(pd.__version__)\n",
    "print(sklearn.__version__)\n",
    "print(scipy.__version__)"
   ]
  },
  {
   "cell_type": "code",
   "execution_count": 3,
   "id": "547a9eb5-4abf-4821-ad90-603254464933",
   "metadata": {},
   "outputs": [
    {
     "data": {
      "text/plain": [
       "{'python_version': '3.10.9.final.0 (64 bit)',\n",
       " 'cpuinfo_version': [9, 0, 0],\n",
       " 'cpuinfo_version_string': '9.0.0',\n",
       " 'arch': 'X86_64',\n",
       " 'bits': 64,\n",
       " 'count': 20,\n",
       " 'arch_string_raw': 'AMD64',\n",
       " 'vendor_id_raw': 'GenuineIntel',\n",
       " 'brand_raw': '12th Gen Intel(R) Core(TM) i9-12900H',\n",
       " 'hz_actual_friendly': '2.5000 GHz',\n",
       " 'hz_actual': [2500000000, 0],\n",
       " 'l2_cache_size': 4194304,\n",
       " 'stepping': 3,\n",
       " 'model': 154,\n",
       " 'family': 6,\n",
       " 'l3_cache_size': 25165824,\n",
       " 'hz_advertised_friendly': '2.9180 GHz',\n",
       " 'hz_advertised': [2918000000, 0],\n",
       " 'flags': ['3dnow',\n",
       "  '3dnowprefetch',\n",
       "  'abm',\n",
       "  'acpi',\n",
       "  'adx',\n",
       "  'aes',\n",
       "  'apic',\n",
       "  'avx',\n",
       "  'avx2',\n",
       "  'bmi1',\n",
       "  'bmi2',\n",
       "  'clflush',\n",
       "  'clflushopt',\n",
       "  'clwb',\n",
       "  'cmov',\n",
       "  'cx16',\n",
       "  'cx8',\n",
       "  'de',\n",
       "  'ds_cpl',\n",
       "  'dtes64',\n",
       "  'dts',\n",
       "  'erms',\n",
       "  'est',\n",
       "  'f16c',\n",
       "  'fma',\n",
       "  'fpu',\n",
       "  'fxsr',\n",
       "  'gfni',\n",
       "  'ht',\n",
       "  'ia64',\n",
       "  'intel_pt',\n",
       "  'invpcid',\n",
       "  'lahf_lm',\n",
       "  'mca',\n",
       "  'mce',\n",
       "  'mmx',\n",
       "  'monitor',\n",
       "  'movbe',\n",
       "  'msr',\n",
       "  'mtrr',\n",
       "  'osxsave',\n",
       "  'pae',\n",
       "  'pat',\n",
       "  'pbe',\n",
       "  'pcid',\n",
       "  'pclmulqdq',\n",
       "  'pdcm',\n",
       "  'pge',\n",
       "  'pku',\n",
       "  'pni',\n",
       "  'popcnt',\n",
       "  'pse',\n",
       "  'pse36',\n",
       "  'rdpid',\n",
       "  'rdrnd',\n",
       "  'rdseed',\n",
       "  'sep',\n",
       "  'serial',\n",
       "  'sha',\n",
       "  'smap',\n",
       "  'smep',\n",
       "  'smx',\n",
       "  'ss',\n",
       "  'sse',\n",
       "  'sse2',\n",
       "  'sse4_1',\n",
       "  'sse4_2',\n",
       "  'ssse3',\n",
       "  'tm',\n",
       "  'tm2',\n",
       "  'tsc',\n",
       "  'tscdeadline',\n",
       "  'umip',\n",
       "  'vaes',\n",
       "  'vme',\n",
       "  'vmx',\n",
       "  'vpclmulqdq',\n",
       "  'x2apic',\n",
       "  'xsave',\n",
       "  'xtpr'],\n",
       " 'l2_cache_line_size': 1280,\n",
       " 'l2_cache_associativity': 7}"
      ]
     },
     "execution_count": 3,
     "metadata": {},
     "output_type": "execute_result"
    }
   ],
   "source": [
    "import cpuinfo\n",
    "cpuinfo.get_cpu_info()"
   ]
  },
  {
   "cell_type": "code",
   "execution_count": 4,
   "id": "e18f4291-8614-47d0-adcd-991647b9d2ad",
   "metadata": {},
   "outputs": [
    {
     "name": "stdout",
     "output_type": "stream",
     "text": [
      "63GB of RAM available\n"
     ]
    }
   ],
   "source": [
    "import psutil\n",
    "values = psutil.virtual_memory()\n",
    "print(str(values.total >> 30) + \"GB of RAM available\")"
   ]
  }
 ],
 "metadata": {
  "kernelspec": {
   "display_name": "Python 3 (ipykernel)",
   "language": "python",
   "name": "python3"
  },
  "language_info": {
   "codemirror_mode": {
    "name": "ipython",
    "version": 3
   },
   "file_extension": ".py",
   "mimetype": "text/x-python",
   "name": "python",
   "nbconvert_exporter": "python",
   "pygments_lexer": "ipython3",
   "version": "3.10.9"
  }
 },
 "nbformat": 4,
 "nbformat_minor": 5
}
